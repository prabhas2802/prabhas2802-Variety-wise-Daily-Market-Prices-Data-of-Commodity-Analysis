{
 "cells": [
  {
   "cell_type": "code",
   "execution_count": 1,
   "id": "d66a5e20-8f33-4966-bf28-8b88d4b13451",
   "metadata": {},
   "outputs": [
    {
     "name": "stdout",
     "output_type": "stream",
     "text": [
      "Requirement already satisfied: pyspark in d:\\anaconda\\lib\\site-packages (4.0.1)\n",
      "Requirement already satisfied: py4j==0.10.9.9 in d:\\anaconda\\lib\\site-packages (from pyspark) (0.10.9.9)\n"
     ]
    }
   ],
   "source": [
    "!pip install pyspark\n"
   ]
  },
  {
   "cell_type": "code",
   "execution_count": 7,
   "id": "47628268-f395-4b87-b9ad-9f4ca8cecb2f",
   "metadata": {},
   "outputs": [
    {
     "name": "stdout",
     "output_type": "stream",
     "text": [
      "✅ Spark session created: <pyspark.sql.session.SparkSession object at 0x0000020F7CC84050>\n"
     ]
    }
   ],
   "source": [
    "from pyspark.sql import SparkSession\n",
    "from pyspark.sql.functions import col, when, isnan, sum as spark_sum, round as spark_round\n",
    "import matplotlib.pyplot as plt\n",
    "import pandas as pd\n",
    "\n",
    "# Start SparkSession\n",
    "spark = SparkSession.builder \\\n",
    "    .appName(\"CottonProductionAnalysis\") \\\n",
    "    .config(\"spark.driver.memory\", \"4g\") \\\n",
    "    .getOrCreate()\n",
    "\n",
    "print('✅ Spark session created:', spark)"
   ]
  },
  {
   "cell_type": "code",
   "execution_count": 8,
   "id": "b93fb370-1148-4ca1-871a-fe742f544979",
   "metadata": {},
   "outputs": [
    {
     "name": "stdout",
     "output_type": "stream",
     "text": [
      "Total Rows: 20447\n",
      "root\n",
      " |-- State: string (nullable = true)\n",
      " |-- District: string (nullable = true)\n",
      " |-- Market: string (nullable = true)\n",
      " |-- Commodity: string (nullable = true)\n",
      " |-- Variety: string (nullable = true)\n",
      " |-- Grade: string (nullable = true)\n",
      " |-- Arrival_Date: string (nullable = true)\n",
      " |-- Min_Price: string (nullable = true)\n",
      " |-- Max_Price: string (nullable = true)\n",
      " |-- Modal_Price: string (nullable = true)\n",
      " |-- Commodity_Code: string (nullable = true)\n",
      "\n",
      "+---------+--------+------------+---------+-------+-----+------------+---------+---------+-----------+--------------+\n",
      "|State    |District|Market      |Commodity|Variety|Grade|Arrival_Date|Min_Price|Max_Price|Modal_Price|Commodity_Code|\n",
      "+---------+--------+------------+---------+-------+-----+------------+---------+---------+-----------+--------------+\n",
      "|Telangana|Khammam |Bhadrachalam|Cotton   |G-6    |FAQ  |13/01/2015  |3888     |4050     |3986       |15            |\n",
      "|Telangana|Khammam |Bhadrachalam|Cotton   |G-6    |FAQ  |27/01/2015  |3888     |4050     |3986       |15            |\n",
      "|Telangana|Khammam |Bhadrachalam|Cotton   |G-6    |FAQ  |02/02/2015  |3888     |4050     |3986       |15            |\n",
      "|Telangana|Khammam |Bhadrachalam|Cotton   |G-6    |FAQ  |05/03/2015  |3888     |4050     |3986       |15            |\n",
      "|Telangana|Khammam |Bhadrachalam|Cotton   |G-6    |FAQ  |17/03/2015  |3888     |4050     |3986       |15            |\n",
      "+---------+--------+------------+---------+-------+-----+------------+---------+---------+-----------+--------------+\n",
      "only showing top 5 rows\n"
     ]
    }
   ],
   "source": [
    "# ===============================================\n",
    "# 2. Load Dataset\n",
    "# ===============================================\n",
    "csv_path = \"cotton_prediction.csv.csv\"  # update path if needed\n",
    "df = spark.read.csv(csv_path, header=True, inferSchema=False)\n",
    "print('Total Rows:', df.count())\n",
    "df.printSchema()\n",
    "df.show(5, truncate=False)"
   ]
  },
  {
   "cell_type": "code",
   "execution_count": 4,
   "id": "15c5bc14-c20e-4931-afe6-7532a31d4f7c",
   "metadata": {},
   "outputs": [
    {
     "name": "stdout",
     "output_type": "stream",
     "text": [
      "🔍 Missing Values:\n",
      "+-----+--------+------+---------+-------+-----+------------+---------+---------+-----------+--------------+\n",
      "|State|District|Market|Commodity|Variety|Grade|Arrival_Date|Min_Price|Max_Price|Modal_Price|Commodity_Code|\n",
      "+-----+--------+------+---------+-------+-----+------------+---------+---------+-----------+--------------+\n",
      "|0    |0       |0     |0        |0      |0    |0           |0        |0        |0          |0             |\n",
      "+-----+--------+------+---------+-------+-----+------------+---------+---------+-----------+--------------+\n",
      "\n",
      "+---------+--------+------------+---------+-------+-----+------------+---------+---------+-----------+--------------+\n",
      "|State    |District|Market      |Commodity|Variety|Grade|Arrival_Date|Min_Price|Max_Price|Modal_Price|Commodity_Code|\n",
      "+---------+--------+------------+---------+-------+-----+------------+---------+---------+-----------+--------------+\n",
      "|Telangana|Khammam |Bhadrachalam|Cotton   |G-6    |FAQ  |13/01/2015  |3888     |4050     |3986       |15            |\n",
      "|Telangana|Khammam |Bhadrachalam|Cotton   |G-6    |FAQ  |27/01/2015  |3888     |4050     |3986       |15            |\n",
      "|Telangana|Khammam |Bhadrachalam|Cotton   |G-6    |FAQ  |02/02/2015  |3888     |4050     |3986       |15            |\n",
      "|Telangana|Khammam |Bhadrachalam|Cotton   |G-6    |FAQ  |05/03/2015  |3888     |4050     |3986       |15            |\n",
      "|Telangana|Khammam |Bhadrachalam|Cotton   |G-6    |FAQ  |17/03/2015  |3888     |4050     |3986       |15            |\n",
      "+---------+--------+------------+---------+-------+-----+------------+---------+---------+-----------+--------------+\n",
      "only showing top 5 rows\n"
     ]
    }
   ],
   "source": [
    "# ===============================================\n",
    "# 3. Data Cleaning & Feature Engineering\n",
    "# ===============================================\n",
    "# Identify numeric columns manually (adjust based on your CSV)\n",
    "numeric_cols = ['rainfall', 'temperature', 'humidity', 'pesticide_use', 'yield']\n",
    "\n",
    "# Replace \"NA\", \"NaN\", \"\", or similar non-numeric values with null\n",
    "for c in numeric_cols:\n",
    "    if c in df.columns:\n",
    "        df = df.withColumn(c, when(col(c).isin(\"NA\", \"NaN\", \"\"), None).otherwise(col(c)))\n",
    "        df = df.withColumn(c, col(c).cast(\"double\"))\n",
    "\n",
    "# Create new derived features\n",
    "if all(c in df.columns for c in ['rainfall', 'temperature', 'humidity']):\n",
    "    df = df.withColumn('rain_temp_ratio', col('rainfall') / (col('temperature') + 1))\n",
    "    df = df.withColumn('humid_temp_diff', col('humidity') - col('temperature'))\n",
    "\n",
    "# Check missing values\n",
    "missing_df = df.select([spark_sum(when(col(c).isNull(), 1).otherwise(0)).alias(c) for c in df.columns])\n",
    "print(\"🔍 Missing Values:\")\n",
    "missing_df.show(truncate=False)\n",
    "\n",
    "df.show(5, truncate=False)"
   ]
  },
  {
   "cell_type": "code",
   "execution_count": 5,
   "id": "2f7e011e-d46e-4ccb-9c4d-bbc81acf3851",
   "metadata": {},
   "outputs": [
    {
     "name": "stdout",
     "output_type": "stream",
     "text": [
      "+-------+---------+--------+------------+---------+----------------+-----+------------+-----------------+-----------------+------------------+--------------+\n",
      "|summary|    State|District|      Market|Commodity|         Variety|Grade|Arrival_Date|        Min_Price|        Max_Price|       Modal_Price|Commodity_Code|\n",
      "+-------+---------+--------+------------+---------+----------------+-----+------------+-----------------+-----------------+------------------+--------------+\n",
      "|  count|    20447|   20447|       20447|    20447|           20447|20447|       20447|            20447|            20447|             20447|         20447|\n",
      "|   mean|     NULL|    NULL|        NULL|     NULL|           320.0| NULL|        NULL|4236.576906147601|4643.773756541302| 4504.659045336724|          15.0|\n",
      "| stddev|     NULL|    NULL|        NULL|     NULL|             0.0| NULL|        NULL|1672.013906787442|1861.148758490952|1710.7342250364252|           0.0|\n",
      "|    min|Telangana| Khammam|Bhadrachalam|   Cotton|170-C2  (Ginned)|  FAQ|  01/01/2004|                0|                0|             10000|            15|\n",
      "|    max|Telangana| Khammam|    Yellandu|   Cotton|  lra (Unginned)|Small|  31/12/2024|             9950|             9960|              9950|            15|\n",
      "+-------+---------+--------+------------+---------+----------------+-----+------------+-----------------+-----------------+------------------+--------------+\n",
      "\n"
     ]
    }
   ],
   "source": [
    "# ===============================================\n",
    "# 4. Summary Statistics\n",
    "# ===============================================\n",
    "df.describe().show()"
   ]
  },
  {
   "cell_type": "code",
   "execution_count": 6,
   "id": "3b59f1f6-d22e-4f19-82d5-277eac86566e",
   "metadata": {},
   "outputs": [
    {
     "name": "stderr",
     "output_type": "stream",
     "text": [
      "C:\\Users\\Lenovo\\AppData\\Local\\Temp\\ipykernel_20652\\131755332.py:8: UserWarning: Attempting to set identical low and high xlims makes transformation singular; automatically expanding.\n",
      "  plt.imshow(corr, cmap='coolwarm', interpolation='none')\n",
      "C:\\Users\\Lenovo\\AppData\\Local\\Temp\\ipykernel_20652\\131755332.py:8: UserWarning: Attempting to set identical low and high ylims makes transformation singular; automatically expanding.\n",
      "  plt.imshow(corr, cmap='coolwarm', interpolation='none')\n"
     ]
    },
    {
     "data": {
      "image/png": "[encoded data removed]",
      "text/plain": [
       "<Figure size 800x600 with 2 Axes>"
      ]
     },
     "metadata": {},
     "output_type": "display_data"
    }
   ],
   "source": [
    "# ===============================================\n",
    "# 5. Correlation Heatmap (via Pandas)\n",
    "# ===============================================\n",
    "numeric_df = df.select([c for c in numeric_cols if c in df.columns]).toPandas()\n",
    "corr = numeric_df.corr()\n",
    "\n",
    "plt.figure(figsize=(8,6))\n",
    "plt.imshow(corr, cmap='coolwarm', interpolation='none')\n",
    "plt.colorbar(label='Correlation Coefficient')\n",
    "plt.xticks(range(len(corr)), corr.columns, rotation=45)\n",
    "plt.yticks(range(len(corr)), corr.columns)\n",
    "plt.title(\"Correlation Heatmap of Cotton Features\")\n",
    "plt.tight_layout()\n",
    "plt.show()\n"
   ]
  },
  {
   "cell_type": "code",
   "execution_count": 22,
   "id": "55170f51-6ace-4ef4-8ca6-e4da4bff09fd",
   "metadata": {},
   "outputs": [],
   "source": [
    "\n",
    "from pyspark.ml.feature import VectorAssembler\n",
    "from pyspark.ml.regression import LinearRegression\n",
    "\n",
    "# Define features and label\n",
    "features = [c for c in numeric_cols if c != 'yield']\n",
    "if 'yield' in df.columns:\n",
    "    df_ml = df.na.drop(subset=features + ['yield'])\n",
    "    assembler = VectorAssembler(inputCols=features, outputCol=\"features\")\n",
    "    data = assembler.transform(df_ml).select('features', col('yield').alias('label'))\n",
    "\n",
    "    # Split data\n",
    "    train, test = data.randomSplit([0.8, 0.2], seed=42)\n",
    "\n",
    "    # Train model\n",
    "    lr = LinearRegression(featuresCol='features', labelCol='label')\n",
    "    lr_model = lr.fit(train)\n",
    "    predictions = lr_model.transform(test)\n",
    "\n",
    "    # Display model coefficients\n",
    "    print(\"\\n📊 Feature Importances:\")\n",
    "    for f, coef in zip(features, lr_model.coefficients):\n",
    "        print(f\"{f}: {round(coef, 4)}\")\n",
    "\n",
    "    # Model performance\n",
    "    print(\"\\n📈 Model Performance:\")\n",
    "    print(\"R²:\", round(lr_model.summary.r2, 3))\n",
    "    print(\"RMSE:\", round(lr_model.summary.rootMeanSquaredError, 3))"
   ]
  },
  {
   "cell_type": "code",
   "execution_count": 16,
   "id": "0f29ed49-3a2c-411d-bfe6-4a9f3184ba25",
   "metadata": {},
   "outputs": [
    {
     "name": "stdout",
     "output_type": "stream",
     "text": [
      "✅ Cleaned dataset saved to: cleaned_cotton_data.csv\n"
     ]
    }
   ],
   "source": [
    "\n",
    "output_path = \"cleaned_cotton_data.csv\"\n",
    "df.toPandas().to_csv(output_path, index=False)\n",
    "print(f\"✅ Cleaned dataset saved to: {output_path}\")"
   ]
  },
  {
   "cell_type": "code",
   "execution_count": 23,
   "id": "fb865328-462a-4c46-8589-7a99cb45023c",
   "metadata": {},
   "outputs": [
    {
     "name": "stdout",
     "output_type": "stream",
     "text": [
      "📊 Basic Statistical Summary of Numeric Columns:\n",
      "+-------+---------+--------+------------+---------+----------------+-----+------------+-----------------+-----------------+------------------+--------------+\n",
      "|summary|State    |District|Market      |Commodity|Variety         |Grade|Arrival_Date|Min_Price        |Max_Price        |Modal_Price       |Commodity_Code|\n",
      "+-------+---------+--------+------------+---------+----------------+-----+------------+-----------------+-----------------+------------------+--------------+\n",
      "|count  |20447    |20447   |20447       |20447    |20447           |20447|20447       |20447            |20447            |20447             |20447         |\n",
      "|mean   |NULL     |NULL    |NULL        |NULL     |320.0           |NULL |NULL        |4236.576906147601|4643.773756541302|4504.659045336724 |15.0          |\n",
      "|stddev |NULL     |NULL    |NULL        |NULL     |0.0             |NULL |NULL        |1672.013906787442|1861.148758490952|1710.7342250364252|0.0           |\n",
      "|min    |Telangana|Khammam |Bhadrachalam|Cotton   |170-C2  (Ginned)|FAQ  |01/01/2004  |0                |0                |10000             |15            |\n",
      "|max    |Telangana|Khammam |Yellandu    |Cotton   |lra (Unginned)  |Small|31/12/2024  |9950             |9960             |9950              |15            |\n",
      "+-------+---------+--------+------------+---------+----------------+-----+------------+-----------------+-----------------+------------------+--------------+\n",
      "\n"
     ]
    }
   ],
   "source": [
    "# ===============================================\n",
    "# 6. Descriptive Statistics\n",
    "# ===============================================\n",
    "print(\"📊 Basic Statistical Summary of Numeric Columns:\")\n",
    "df.describe().show(truncate=False)\n",
    "\n"
   ]
  },
  {
   "cell_type": "code",
   "execution_count": 26,
   "id": "0d7b9581-fbba-4e14-a367-205a6dcb5f95",
   "metadata": {},
   "outputs": [
    {
     "data": {
      "text/plain": [
       "<Figure size 600x400 with 0 Axes>"
      ]
     },
     "metadata": {},
     "output_type": "display_data"
    }
   ],
   "source": [
    "# ===============================================\n",
    "# 7. Distribution of Key Variables\n",
    "# ===============================================\n",
    "import seaborn as sns\n",
    "\n",
    "plt.figure(figsize=(6, 4))\n",
    "for i, col_name in enumerate(numeric_cols, 1):\n",
    "    plt.subplot(2, 3, i)\n",
    "    sns.histplot(pandas_df[col_name].dropna(), kde=True, bins=20, color='skyblue')\n",
    "    plt.title(f'Distribution of {col_name}')\n",
    "plt.tight_layout()\n",
    "plt.show()\n"
   ]
  },
  {
   "cell_type": "code",
   "execution_count": 27,
   "id": "b5327c93-9c57-4abf-8ecc-1ee5ff74b5a4",
   "metadata": {},
   "outputs": [],
   "source": [
    "# ===============================================\n",
    "# 9. Yearly or Seasonal Trend Analysis\n",
    "# ===============================================\n",
    "if 'year' in df.columns:\n",
    "    trend_df = df.groupBy('year').avg('yield', 'rainfall', 'temperature', 'humidity').orderBy('year')\n",
    "    trend_pd = trend_df.toPandas()\n",
    "\n",
    "    plt.figure(figsize=(10,5))\n",
    "    plt.plot(trend_pd['year'], trend_pd['avg(yield)'], marker='o', label='Average Yield')\n",
    "    plt.plot(trend_pd['year'], trend_pd['avg(rainfall)'], marker='s', label='Rainfall')\n",
    "    plt.xlabel('Year')\n",
    "    plt.ylabel('Value')\n",
    "    plt.title('Yearly Trends in Yield and Rainfall')\n",
    "    plt.legend()\n",
    "    plt.grid(True)\n",
    "    plt.show()\n",
    "\n",
    "    \n"
   ]
  },
  {
   "cell_type": "code",
   "execution_count": 29,
   "id": "e5a9635e-b5ca-458c-9ff8-ee715a0b8c9d",
   "metadata": {},
   "outputs": [
    {
     "ename": "ValueError",
     "evalue": "could not convert string to float: 'Telangana'",
     "output_type": "error",
     "traceback": [
      "\u001b[1;31m---------------------------------------------------------------------------\u001b[0m",
      "\u001b[1;31mValueError\u001b[0m                                Traceback (most recent call last)",
      "Cell \u001b[1;32mIn[29], line 4\u001b[0m\n\u001b[0;32m      1\u001b[0m \u001b[38;5;66;03m# ===============================================\u001b[39;00m\n\u001b[0;32m      2\u001b[0m \u001b[38;5;66;03m# 11. Feature Importance / Correlation Ranking\u001b[39;00m\n\u001b[0;32m      3\u001b[0m \u001b[38;5;66;03m# ===============================================\u001b[39;00m\n\u001b[1;32m----> 4\u001b[0m corr_matrix \u001b[38;5;241m=\u001b[39m pandas_df\u001b[38;5;241m.\u001b[39mcorr()[\u001b[38;5;124m'\u001b[39m\u001b[38;5;124myield\u001b[39m\u001b[38;5;124m'\u001b[39m]\u001b[38;5;241m.\u001b[39msort_values(ascending\u001b[38;5;241m=\u001b[39m\u001b[38;5;28;01mFalse\u001b[39;00m)\n\u001b[0;32m      5\u001b[0m plt\u001b[38;5;241m.\u001b[39mfigure(figsize\u001b[38;5;241m=\u001b[39m(\u001b[38;5;241m6\u001b[39m,\u001b[38;5;241m4\u001b[39m))\n\u001b[0;32m      6\u001b[0m corr_matrix\u001b[38;5;241m.\u001b[39mdrop(\u001b[38;5;124m'\u001b[39m\u001b[38;5;124myield\u001b[39m\u001b[38;5;124m'\u001b[39m, errors\u001b[38;5;241m=\u001b[39m\u001b[38;5;124m'\u001b[39m\u001b[38;5;124mignore\u001b[39m\u001b[38;5;124m'\u001b[39m)\u001b[38;5;241m.\u001b[39mplot(kind\u001b[38;5;241m=\u001b[39m\u001b[38;5;124m'\u001b[39m\u001b[38;5;124mbarh\u001b[39m\u001b[38;5;124m'\u001b[39m, color\u001b[38;5;241m=\u001b[39m\u001b[38;5;124m'\u001b[39m\u001b[38;5;124morange\u001b[39m\u001b[38;5;124m'\u001b[39m)\n",
      "File \u001b[1;32mD:\\ANACONDA\\Lib\\site-packages\\pandas\\core\\frame.py:11049\u001b[0m, in \u001b[0;36mDataFrame.corr\u001b[1;34m(self, method, min_periods, numeric_only)\u001b[0m\n\u001b[0;32m  11047\u001b[0m cols \u001b[38;5;241m=\u001b[39m data\u001b[38;5;241m.\u001b[39mcolumns\n\u001b[0;32m  11048\u001b[0m idx \u001b[38;5;241m=\u001b[39m cols\u001b[38;5;241m.\u001b[39mcopy()\n\u001b[1;32m> 11049\u001b[0m mat \u001b[38;5;241m=\u001b[39m data\u001b[38;5;241m.\u001b[39mto_numpy(dtype\u001b[38;5;241m=\u001b[39m\u001b[38;5;28mfloat\u001b[39m, na_value\u001b[38;5;241m=\u001b[39mnp\u001b[38;5;241m.\u001b[39mnan, copy\u001b[38;5;241m=\u001b[39m\u001b[38;5;28;01mFalse\u001b[39;00m)\n\u001b[0;32m  11051\u001b[0m \u001b[38;5;28;01mif\u001b[39;00m method \u001b[38;5;241m==\u001b[39m \u001b[38;5;124m\"\u001b[39m\u001b[38;5;124mpearson\u001b[39m\u001b[38;5;124m\"\u001b[39m:\n\u001b[0;32m  11052\u001b[0m     correl \u001b[38;5;241m=\u001b[39m libalgos\u001b[38;5;241m.\u001b[39mnancorr(mat, minp\u001b[38;5;241m=\u001b[39mmin_periods)\n",
      "File \u001b[1;32mD:\\ANACONDA\\Lib\\site-packages\\pandas\\core\\frame.py:1993\u001b[0m, in \u001b[0;36mDataFrame.to_numpy\u001b[1;34m(self, dtype, copy, na_value)\u001b[0m\n\u001b[0;32m   1991\u001b[0m \u001b[38;5;28;01mif\u001b[39;00m dtype \u001b[38;5;129;01mis\u001b[39;00m \u001b[38;5;129;01mnot\u001b[39;00m \u001b[38;5;28;01mNone\u001b[39;00m:\n\u001b[0;32m   1992\u001b[0m     dtype \u001b[38;5;241m=\u001b[39m np\u001b[38;5;241m.\u001b[39mdtype(dtype)\n\u001b[1;32m-> 1993\u001b[0m result \u001b[38;5;241m=\u001b[39m \u001b[38;5;28mself\u001b[39m\u001b[38;5;241m.\u001b[39m_mgr\u001b[38;5;241m.\u001b[39mas_array(dtype\u001b[38;5;241m=\u001b[39mdtype, copy\u001b[38;5;241m=\u001b[39mcopy, na_value\u001b[38;5;241m=\u001b[39mna_value)\n\u001b[0;32m   1994\u001b[0m \u001b[38;5;28;01mif\u001b[39;00m result\u001b[38;5;241m.\u001b[39mdtype \u001b[38;5;129;01mis\u001b[39;00m \u001b[38;5;129;01mnot\u001b[39;00m dtype:\n\u001b[0;32m   1995\u001b[0m     result \u001b[38;5;241m=\u001b[39m np\u001b[38;5;241m.\u001b[39masarray(result, dtype\u001b[38;5;241m=\u001b[39mdtype)\n",
      "File \u001b[1;32mD:\\ANACONDA\\Lib\\site-packages\\pandas\\core\\internals\\managers.py:1688\u001b[0m, in \u001b[0;36mBlockManager.as_array\u001b[1;34m(self, dtype, copy, na_value)\u001b[0m\n\u001b[0;32m   1686\u001b[0m     arr \u001b[38;5;241m=\u001b[39m np\u001b[38;5;241m.\u001b[39masarray(blk\u001b[38;5;241m.\u001b[39mvalues, dtype\u001b[38;5;241m=\u001b[39mdtype)\n\u001b[0;32m   1687\u001b[0m \u001b[38;5;28;01melse\u001b[39;00m:\n\u001b[1;32m-> 1688\u001b[0m     arr \u001b[38;5;241m=\u001b[39m np\u001b[38;5;241m.\u001b[39marray(blk\u001b[38;5;241m.\u001b[39mvalues, dtype\u001b[38;5;241m=\u001b[39mdtype, copy\u001b[38;5;241m=\u001b[39mcopy)\n\u001b[0;32m   1690\u001b[0m \u001b[38;5;28;01mif\u001b[39;00m using_copy_on_write() \u001b[38;5;129;01mand\u001b[39;00m \u001b[38;5;129;01mnot\u001b[39;00m copy:\n\u001b[0;32m   1691\u001b[0m     arr \u001b[38;5;241m=\u001b[39m arr\u001b[38;5;241m.\u001b[39mview()\n",
      "\u001b[1;31mValueError\u001b[0m: could not convert string to float: 'Telangana'"
     ]
    }
   ],
   "source": [
    "# ===============================================\n",
    "# 11. Feature Importance / Correlation Ranking\n",
    "# ===============================================\n",
    "corr_matrix = pandas_df.corr()['yield'].sort_values(ascending=False)\n",
    "plt.figure(figsize=(6,4))\n",
    "corr_matrix.drop('yield', errors='ignore').plot(kind='barh', color='orange')\n",
    "plt.title('Feature Correlation with Yield')\n",
    "plt.xlabel('Correlation Coefficient')\n",
    "plt.ylabel('Features')\n",
    "plt.grid(True, linestyle='--', alpha=0.6)\n",
    "plt.show()\n"
   ]
  },
  {
   "cell_type": "code",
   "execution_count": null,
   "id": "fec9c9b7-a53c-4e8e-8dd6-f9550f432c8c",
   "metadata": {},
   "outputs": [],
   "source": []
  }
 ],
 "metadata": {
  "kernelspec": {
   "display_name": "Python 3 (ipykernel)",
   "language": "python",
   "name": "python3"
  },
  "language_info": {
   "codemirror_mode": {
    "name": "ipython",
    "version": 3
   },
   "file_extension": ".py",
   "mimetype": "text/x-python",
   "name": "python",
   "nbconvert_exporter": "python",
   "pygments_lexer": "ipython3",
   "version": "3.13.5"
  }
 },
 "nbformat": 4,
 "nbformat_minor": 5
}
